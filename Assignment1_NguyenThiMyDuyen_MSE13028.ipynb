{
  "nbformat": 4,
  "nbformat_minor": 0,
  "metadata": {
    "colab": {
      "name": "Untitled1.ipynb",
      "provenance": [],
      "authorship_tag": "ABX9TyPmTHf4vlgIWGMp5o6FDBwH",
      "include_colab_link": true
    },
    "kernelspec": {
      "name": "python3",
      "display_name": "Python 3"
    }
  },
  "cells": [
    {
      "cell_type": "markdown",
      "metadata": {
        "id": "view-in-github",
        "colab_type": "text"
      },
      "source": [
        "<a href=\"https://colab.research.google.com/github/trungduyen0220/text-classification-assignment/blob/master/Assignment1_NguyenThiMyDuyen_MSE13028.ipynb\" target=\"_parent\"><img src=\"https://colab.research.google.com/assets/colab-badge.svg\" alt=\"Open In Colab\"/></a>"
      ]
    },
    {
      "cell_type": "code",
      "metadata": {
        "id": "e-tbP5lvgNs4",
        "colab_type": "code",
        "colab": {
          "base_uri": "https://localhost:8080/",
          "height": 391
        },
        "outputId": "8eecbe57-1a9e-4eee-f7a1-8a8d1f445a25"
      },
      "source": [
        "!rm -f train.csv test.csv\n",
        "!wget https://raw.githubusercontent.com/minhpqn/NLP-Notes/master/data/arxiv/train.csv\n",
        "!wget https://raw.githubusercontent.com/minhpqn/NLP-Notes/master/data/arxiv/test.csv"
      ],
      "execution_count": 1,
      "outputs": [
        {
          "output_type": "stream",
          "text": [
            "--2020-09-06 08:21:03--  https://raw.githubusercontent.com/minhpqn/NLP-Notes/master/data/arxiv/train.csv\n",
            "Resolving raw.githubusercontent.com (raw.githubusercontent.com)... 151.101.0.133, 151.101.64.133, 151.101.128.133, ...\n",
            "Connecting to raw.githubusercontent.com (raw.githubusercontent.com)|151.101.0.133|:443... connected.\n",
            "HTTP request sent, awaiting response... 200 OK\n",
            "Length: 10400749 (9.9M) [text/plain]\n",
            "Saving to: ‘train.csv’\n",
            "\n",
            "train.csv           100%[===================>]   9.92M  25.8MB/s    in 0.4s    \n",
            "\n",
            "2020-09-06 08:21:03 (25.8 MB/s) - ‘train.csv’ saved [10400749/10400749]\n",
            "\n",
            "--2020-09-06 08:21:03--  https://raw.githubusercontent.com/minhpqn/NLP-Notes/master/data/arxiv/test.csv\n",
            "Resolving raw.githubusercontent.com (raw.githubusercontent.com)... 151.101.0.133, 151.101.64.133, 151.101.128.133, ...\n",
            "Connecting to raw.githubusercontent.com (raw.githubusercontent.com)|151.101.0.133|:443... connected.\n",
            "HTTP request sent, awaiting response... 200 OK\n",
            "Length: 1133794 (1.1M) [text/plain]\n",
            "Saving to: ‘test.csv’\n",
            "\n",
            "test.csv            100%[===================>]   1.08M  --.-KB/s    in 0.1s    \n",
            "\n",
            "2020-09-06 08:21:03 (7.47 MB/s) - ‘test.csv’ saved [1133794/1133794]\n",
            "\n"
          ],
          "name": "stdout"
        }
      ]
    },
    {
      "cell_type": "code",
      "metadata": {
        "id": "WF3eKj1vgTmt",
        "colab_type": "code",
        "colab": {}
      },
      "source": [
        "import pandas as pd\n",
        "\n",
        "train_df = pd.read_csv('train.csv')\n",
        "test_df = pd.read_csv('test.csv')"
      ],
      "execution_count": 2,
      "outputs": []
    },
    {
      "cell_type": "code",
      "metadata": {
        "id": "D_Cth-p2gYH9",
        "colab_type": "code",
        "colab": {
          "base_uri": "https://localhost:8080/",
          "height": 204
        },
        "outputId": "1013616f-fbf5-4383-de20-7c32314d5a81"
      },
      "source": [
        "train_df.head()"
      ],
      "execution_count": 3,
      "outputs": [
        {
          "output_type": "execute_result",
          "data": {
            "text/html": [
              "<div>\n",
              "<style scoped>\n",
              "    .dataframe tbody tr th:only-of-type {\n",
              "        vertical-align: middle;\n",
              "    }\n",
              "\n",
              "    .dataframe tbody tr th {\n",
              "        vertical-align: top;\n",
              "    }\n",
              "\n",
              "    .dataframe thead th {\n",
              "        text-align: right;\n",
              "    }\n",
              "</style>\n",
              "<table border=\"1\" class=\"dataframe\">\n",
              "  <thead>\n",
              "    <tr style=\"text-align: right;\">\n",
              "      <th></th>\n",
              "      <th>id</th>\n",
              "      <th>title</th>\n",
              "      <th>abstract</th>\n",
              "      <th>category</th>\n",
              "    </tr>\n",
              "  </thead>\n",
              "  <tbody>\n",
              "    <tr>\n",
              "      <th>0</th>\n",
              "      <td>1901.05003</td>\n",
              "      <td>Quantum Teleportation-Inspired Algorithm for S...</td>\n",
              "      <td>We show that low-depth random quantum circui...</td>\n",
              "      <td>quant-ph</td>\n",
              "    </tr>\n",
              "    <tr>\n",
              "      <th>1</th>\n",
              "      <td>1903.08905</td>\n",
              "      <td>RAP-Net: Recurrent Attention Pooling Networks ...</td>\n",
              "      <td>The response selection has been an emerging ...</td>\n",
              "      <td>cs</td>\n",
              "    </tr>\n",
              "    <tr>\n",
              "      <th>2</th>\n",
              "      <td>1907.11533</td>\n",
              "      <td>Combinatorial protein-protein interactions on ...</td>\n",
              "      <td>Scaffold proteins organize cellular processe...</td>\n",
              "      <td>q-bio</td>\n",
              "    </tr>\n",
              "    <tr>\n",
              "      <th>3</th>\n",
              "      <td>1711.07582</td>\n",
              "      <td>CVXR: An R Package for Disciplined Convex Opti...</td>\n",
              "      <td>CVXR is an R package that provides an object...</td>\n",
              "      <td>stat</td>\n",
              "    </tr>\n",
              "    <tr>\n",
              "      <th>4</th>\n",
              "      <td>1910.05833</td>\n",
              "      <td>Analytical Solution of (2+1) Dimensional Dirac...</td>\n",
              "      <td>In this article, we studied the system of (2...</td>\n",
              "      <td>quant-ph</td>\n",
              "    </tr>\n",
              "  </tbody>\n",
              "</table>\n",
              "</div>"
            ],
            "text/plain": [
              "           id  ...  category\n",
              "0  1901.05003  ...  quant-ph\n",
              "1  1903.08905  ...        cs\n",
              "2  1907.11533  ...     q-bio\n",
              "3  1711.07582  ...      stat\n",
              "4  1910.05833  ...  quant-ph\n",
              "\n",
              "[5 rows x 4 columns]"
            ]
          },
          "metadata": {
            "tags": []
          },
          "execution_count": 3
        }
      ]
    }
  ]
}